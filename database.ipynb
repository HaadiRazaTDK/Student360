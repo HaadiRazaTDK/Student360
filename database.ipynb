{
 "cells": [
  {
   "cell_type": "code",
   "execution_count": 3,
   "metadata": {},
   "outputs": [],
   "source": [
    "import pandas as pd\n",
    "import pyodbc"
   ]
  },
  {
   "cell_type": "code",
   "execution_count": 7,
   "metadata": {},
   "outputs": [],
   "source": [
    "SERVER = 'DESKTOP-12997T8'\n",
    "DATABASE = 'Student360_DatawareHouse'"
   ]
  },
  {
   "cell_type": "code",
   "execution_count": 8,
   "metadata": {},
   "outputs": [],
   "source": [
    "connectionString = f'DRIVER={{SQL Server}};SERVER={SERVER};DATABASE={DATABASE}'"
   ]
  },
  {
   "cell_type": "code",
   "execution_count": 9,
   "metadata": {},
   "outputs": [],
   "source": [
    "conn = pyodbc.connect(connectionString)"
   ]
  },
  {
   "cell_type": "code",
   "execution_count": 10,
   "metadata": {},
   "outputs": [],
   "source": [
    "SQL_QUERY = \"\"\"\n",
    "select * from Student360_DataWarehouse.dbo.FactStudentPerformance;\n",
    "\"\"\""
   ]
  },
  {
   "cell_type": "code",
   "execution_count": 16,
   "metadata": {},
   "outputs": [
    {
     "name": "stdout",
     "output_type": "stream",
     "text": [
      "('ciit/fa14-bcs-106/isb', 1, 7, 1, 1, 1, 2, 3364, 75.0, 72.0, 78.0, None, None, 2.983333333333333, 3.0899999999999994, 2.966666666666667, None, 3.165, None, None, 2.8899999999999997, None, None, Decimal('-0.08'), 3.03, 0, 0, 0, 0)\n",
      "('ciit/fa14-bcs-1092/isb', 1, 8, 1, 1, 1, 2, 727, 57.0, 54.0, 56.0, None, None, 3.2249999999999996, 2.3982608695652177, 2.828333333333333, None, 3.0425, None, None, 2.61, None, None, Decimal('-0.08'), 2.7, 0, 0, 0, 0)\n",
      "('ciit/fa14-bcs-1139/isb', 1, 7, 1, 1, 1, 2, 3418, 76.0, 73.0, 78.0, None, None, 3.198571428571428, 3.0356521739130438, 3.0666666666666664, None, 3.0999999999999996, None, None, 3.26, None, None, Decimal('-0.06'), 3.08, 0, 0, 0, 0)\n",
      "('ciit/fa14-bcs-1189/isb', 1, 5, 1, 1, 1, 2, 866, 66.0, 63.0, 66.0, None, None, 3.0119999999999996, 2.9239130434782608, 2.98, None, 3.115, None, None, 2.8666666666666667, None, None, Decimal('-0.05'), 2.96, 0, 0, 0, 0)\n",
      "('ciit/fa14-bcs-1190/isb', 1, 5, 1, 1, 1, 2, 1849, 32.0, 32.0, 34.0, None, None, 2.296666666666667, 2.35909090909091, 2.243333333333333, None, 2.6125000000000003, None, None, 1.865, None, None, Decimal('-0.15'), 2.3, 0, 0, 0, 0)\n"
     ]
    }
   ],
   "source": [
    "# Execute the SQL query\n",
    "cursor = conn.cursor()\n",
    "cursor.execute(SQL_QUERY)\n",
    "\n",
    "# Fetch the top 5 rows\n",
    "rows = cursor.fetchmany(5)\n",
    "\n",
    "# Display each row\n",
    "for row in rows:\n",
    "    print(row)\n",
    "\n",
    "# Close the cursor and connection when done\n",
    "cursor.close()\n",
    "conn.close()\n"
   ]
  },
  {
   "cell_type": "code",
   "execution_count": 14,
   "metadata": {},
   "outputs": [],
   "source": []
  },
  {
   "cell_type": "code",
   "execution_count": 15,
   "metadata": {},
   "outputs": [
    {
     "name": "stdout",
     "output_type": "stream",
     "text": [
      "None\n"
     ]
    }
   ],
   "source": []
  },
  {
   "cell_type": "code",
   "execution_count": null,
   "metadata": {},
   "outputs": [],
   "source": []
  }
 ],
 "metadata": {
  "kernelspec": {
   "display_name": "Python 3",
   "language": "python",
   "name": "python3"
  },
  "language_info": {
   "codemirror_mode": {
    "name": "ipython",
    "version": 3
   },
   "file_extension": ".py",
   "mimetype": "text/x-python",
   "name": "python",
   "nbconvert_exporter": "python",
   "pygments_lexer": "ipython3",
   "version": "3.12.7"
  }
 },
 "nbformat": 4,
 "nbformat_minor": 2
}
